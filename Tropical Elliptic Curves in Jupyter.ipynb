{
 "cells": [
  {
   "cell_type": "markdown",
   "metadata": {},
   "source": [
    "# Tropical Elliptic Curves in Jupyter\n",
    "\n",
    "\n",
    "## 政治大學應用數學系 蔡炎龍\n",
    "## (joint work with 黃明怡)\n",
    "\n",
    "## 2015 Workshop of Algebra and Geometry 2015\n",
    "## 中正大學數學系"
   ]
  },
  {
   "cell_type": "markdown",
   "metadata": {},
   "source": [
    "## About Python\n",
    "\n",
    "* Python is a programming language.\n",
    "* It's easy to learn yet powerful."
   ]
  },
  {
   "cell_type": "markdown",
   "metadata": {},
   "source": [
    "![Jupyter Logo](images/logo.png)\n",
    "\n",
    "* Jupyter is a Python front end."
   ]
  },
  {
   "cell_type": "markdown",
   "metadata": {},
   "source": [
    "### NCCU PyDay\n",
    "\n",
    "![NCCU PyDay](images/pyday.png)\n",
    "\n",
    "* <b style=\"color:#6666FF;\">Date</b>: June 8, 2015\n",
    "* <b style=\"color:#6666FF;\">Time</b>: 10:00 a.m. -- 3:00 p.m.\n",
    "* <b style=\"color:#6666FF;\">Place</b>: NCCU"
   ]
  },
  {
   "cell_type": "markdown",
   "metadata": {},
   "source": [
    "## Python Loves Math"
   ]
  },
  {
   "cell_type": "code",
   "execution_count": 1,
   "metadata": {
    "collapsed": false
   },
   "outputs": [
    {
     "data": {
      "text/plain": [
       "49"
      ]
     },
     "execution_count": 1,
     "metadata": {},
     "output_type": "execute_result"
    }
   ],
   "source": [
    "(3+4)**2"
   ]
  },
  {
   "cell_type": "markdown",
   "metadata": {},
   "source": [
    "#### Buildin Complex Numbers"
   ]
  },
  {
   "cell_type": "code",
   "execution_count": 2,
   "metadata": {
    "collapsed": false
   },
   "outputs": [
    {
     "data": {
      "text/plain": [
       "(-9+19j)"
      ]
     },
     "execution_count": 2,
     "metadata": {},
     "output_type": "execute_result"
    }
   ],
   "source": [
    "(2+3J)*(3+5J)"
   ]
  },
  {
   "cell_type": "markdown",
   "metadata": {},
   "source": [
    "#### Lots of Packages"
   ]
  },
  {
   "cell_type": "markdown",
   "metadata": {},
   "source": [
    "Jupyter provides \"magic functions.\" For exmaple, the following magic function loads two packages:\n",
    "\n",
    "* matplotlib: ploting package\n",
    "* numpy: scientific computation"
   ]
  },
  {
   "cell_type": "code",
   "execution_count": 3,
   "metadata": {
    "collapsed": false
   },
   "outputs": [
    {
     "name": "stdout",
     "output_type": "stream",
     "text": [
      "Populating the interactive namespace from numpy and matplotlib\n"
     ]
    }
   ],
   "source": [
    "%pylab inline"
   ]
  },
  {
   "cell_type": "code",
   "execution_count": 4,
   "metadata": {
    "collapsed": false
   },
   "outputs": [
    {
     "data": {
      "text/plain": [
       "[<matplotlib.lines.Line2D at 0x10692a4d0>]"
      ]
     },
     "execution_count": 4,
     "metadata": {},
     "output_type": "execute_result"
    },
    {
     "data": {
      "image/png": "[encoded data removed]",
      "text/plain": [
       "<matplotlib.figure.Figure at 0x103dffb90>"
      ]
     },
     "metadata": {},
     "output_type": "display_data"
    }
   ],
   "source": [
    "plot(randn(100))"
   ]
  },
  {
   "cell_type": "markdown",
   "metadata": {},
   "source": [
    "#### Symbolic Computation"
   ]
  },
  {
   "cell_type": "code",
   "execution_count": 5,
   "metadata": {
    "collapsed": true
   },
   "outputs": [],
   "source": [
    "from sympy import *"
   ]
  },
  {
   "cell_type": "markdown",
   "metadata": {},
   "source": [
    "Just make prettier output."
   ]
  },
  {
   "cell_type": "code",
   "execution_count": 6,
   "metadata": {
    "collapsed": true
   },
   "outputs": [],
   "source": [
    "init_printing()"
   ]
  },
  {
   "cell_type": "code",
   "execution_count": 7,
   "metadata": {
    "collapsed": false
   },
   "outputs": [],
   "source": [
    "x = Symbol('x')"
   ]
  },
  {
   "cell_type": "code",
   "execution_count": 8,
   "metadata": {
    "collapsed": true
   },
   "outputs": [],
   "source": [
    "f = x**2 - 2*x + 3"
   ]
  },
  {
   "cell_type": "code",
   "execution_count": 9,
   "metadata": {
    "collapsed": false
   },
   "outputs": [
    {
     "data": {
      "image/png": "[encoded data removed]",
      "text/latex": [
       "$$2 x - 2$$"
      ],
      "text/plain": [
       "2⋅x - 2"
      ]
     },
     "execution_count": 9,
     "metadata": {},
     "output_type": "execute_result"
    }
   ],
   "source": [
    "diff(f,x)"
   ]
  },
  {
   "cell_type": "code",
   "execution_count": 10,
   "metadata": {
    "collapsed": false
   },
   "outputs": [
    {
     "data": {
      "image/png": "[encoded data removed]",
      "text/latex": [
       "$$\\log{\\left (x \\right )}$$"
      ],
      "text/plain": [
       "log(x)"
      ]
     },
     "execution_count": 10,
     "metadata": {},
     "output_type": "execute_result"
    }
   ],
   "source": [
    "integrate(1/x, x)"
   ]
  },
  {
   "cell_type": "markdown",
   "metadata": {
    "collapsed": true
   },
   "source": [
    "## Elliptic Curve"
   ]
  },
  {
   "cell_type": "markdown",
   "metadata": {},
   "source": [
    "[Manjul Bhargava's Talk at ICM 2014](https://www.youtube.com/watch?v=Vx-4MUKCMPg)"
   ]
  },
  {
   "cell_type": "markdown",
   "metadata": {},
   "source": [
    "Given a mathematical expression (eg. a polynomial), does it take a square value?"
   ]
  },
  {
   "cell_type": "markdown",
   "metadata": {},
   "source": [
    "### Plimpton 322 Tablet\n",
    "\n",
    "Plimpton 322 is a Babylonian clay tablet, it has many examples of triple (a,b,c) such that\n",
    "\n",
    "$$a^2 + b^2 = c^2.$$\n",
    "\n",
    "For example, \n",
    "\n",
    "$$12709^2 + 13500^2 = 18541^2.$$"
   ]
  },
  {
   "cell_type": "code",
   "execution_count": 11,
   "metadata": {
    "collapsed": false
   },
   "outputs": [
    {
     "data": {
      "text/plain": [
       "True"
      ]
     },
     "execution_count": 11,
     "metadata": {},
     "output_type": "execute_result"
    }
   ],
   "source": [
    "12709**2 + 13500**2 == 18541**2"
   ]
  },
  {
   "cell_type": "code",
   "execution_count": 12,
   "metadata": {
    "collapsed": false
   },
   "outputs": [
    {
     "data": {
      "image/png": "[encoded data removed]",
      "text/latex": [
       "$$343768681$$"
      ],
      "text/plain": [
       "343768681"
      ]
     },
     "execution_count": 12,
     "metadata": {},
     "output_type": "execute_result"
    }
   ],
   "source": [
    "18541**2"
   ]
  },
  {
   "cell_type": "markdown",
   "metadata": {},
   "source": [
    "An ellipitc cruve is a smooth algebraic curve of the form.\n",
    "\n",
    "$$y^2 = x^3 + Ax + B$$."
   ]
  },
  {
   "cell_type": "code",
   "execution_count": 13,
   "metadata": {
    "collapsed": true
   },
   "outputs": [],
   "source": [
    "def elliptic(A, B):\n",
    "    x = linspace(-3,3,50)\n",
    "    y = linspace(-3,3,50)\n",
    "    X, Y = meshgrid(x, y)\n",
    "    Z = Y**2 - X**3 + A*X + B\n",
    "    contour(Z,[0])"
   ]
  },
  {
   "cell_type": "code",
   "execution_count": 14,
   "metadata": {
    "collapsed": false
   },
   "outputs": [
    {
     "data": {
      "image/png": "[encoded data removed]",
      "text/plain": [
       "<matplotlib.figure.Figure at 0x1079dd2d0>"
      ]
     },
     "metadata": {},
     "output_type": "display_data"
    }
   ],
   "source": [
    "elliptic(3,1)"
   ]
  },
  {
   "cell_type": "markdown",
   "metadata": {},
   "source": [
    "### Jupyter: Interactive Mode"
   ]
  },
  {
   "cell_type": "code",
   "execution_count": 15,
   "metadata": {
    "collapsed": false
   },
   "outputs": [
    {
     "name": "stderr",
     "output_type": "stream",
     "text": [
      ":0: FutureWarning: IPython widgets are experimental and may change in the future.\n"
     ]
    }
   ],
   "source": [
    "from IPython.html.widgets import interact"
   ]
  },
  {
   "cell_type": "markdown",
   "metadata": {},
   "source": [
    "We may use ''any'' function."
   ]
  },
  {
   "cell_type": "code",
   "execution_count": 16,
   "metadata": {
    "collapsed": true
   },
   "outputs": [],
   "source": [
    "def f(x):\n",
    "    print(x)"
   ]
  },
  {
   "cell_type": "code",
   "execution_count": 17,
   "metadata": {
    "collapsed": false
   },
   "outputs": [
    {
     "name": "stdout",
     "output_type": "stream",
     "text": [
      "5\n"
     ]
    },
    {
     "data": {
      "text/plain": [
       "<function __main__.f>"
      ]
     },
     "execution_count": 17,
     "metadata": {},
     "output_type": "execute_result"
    }
   ],
   "source": [
    "interact(f, x=(1,10))"
   ]
  },
  {
   "cell_type": "code",
   "execution_count": 18,
   "metadata": {
    "collapsed": false
   },
   "outputs": [
    {
     "name": "stdout",
     "output_type": "stream",
     "text": [
      "5.5\n"
     ]
    },
    {
     "data": {
      "text/plain": [
       "<function __main__.f>"
      ]
     },
     "execution_count": 18,
     "metadata": {},
     "output_type": "execute_result"
    }
   ],
   "source": [
    "interact(f, x=(1., 10.))"
   ]
  },
  {
   "cell_type": "code",
   "execution_count": 19,
   "metadata": {
    "collapsed": false
   },
   "outputs": [
    {
     "name": "stdout",
     "output_type": "stream",
     "text": [
      "你好\n"
     ]
    },
    {
     "data": {
      "text/plain": [
       "<function __main__.f>"
      ]
     },
     "execution_count": 19,
     "metadata": {},
     "output_type": "execute_result"
    }
   ],
   "source": [
    "interact(f, x=\"你好\")"
   ]
  },
  {
   "cell_type": "code",
   "execution_count": 20,
   "metadata": {
    "collapsed": false
   },
   "outputs": [
    {
     "name": "stdout",
     "output_type": "stream",
     "text": [
      "1\n"
     ]
    },
    {
     "data": {
      "text/plain": [
       "<function __main__.f>"
      ]
     },
     "execution_count": 20,
     "metadata": {},
     "output_type": "execute_result"
    }
   ],
   "source": [
    "interact(f, x={\"微積分\":1, \"高等微積分\":2, \"線性代數\":3})"
   ]
  },
  {
   "cell_type": "code",
   "execution_count": 21,
   "metadata": {
    "collapsed": false
   },
   "outputs": [
    {
     "name": "stdout",
     "output_type": "stream",
     "text": [
      "True\n"
     ]
    },
    {
     "data": {
      "text/plain": [
       "<function __main__.f>"
      ]
     },
     "execution_count": 21,
     "metadata": {},
     "output_type": "execute_result"
    }
   ],
   "source": [
    "interact(f, x=True)"
   ]
  },
  {
   "cell_type": "markdown",
   "metadata": {},
   "source": [
    "### Our Elliptic Curves"
   ]
  },
  {
   "cell_type": "code",
   "execution_count": 22,
   "metadata": {
    "collapsed": false
   },
   "outputs": [
    {
     "data": {
      "text/plain": [
       "<function __main__.elliptic>"
      ]
     },
     "execution_count": 22,
     "metadata": {},
     "output_type": "execute_result"
    },
    {
     "data": {
      "image/png": "[encoded data removed]",
      "text/plain": [
       "<matplotlib.figure.Figure at 0x107af4650>"
      ]
     },
     "metadata": {},
     "output_type": "display_data"
    }
   ],
   "source": [
    "interact(elliptic, A=(-2.,2.), B=(-2.,2.))"
   ]
  },
  {
   "cell_type": "markdown",
   "metadata": {},
   "source": [
    "### Group Law"
   ]
  },
  {
   "cell_type": "markdown",
   "metadata": {},
   "source": [
    "![group law](images/grouplaw.gif)"
   ]
  },
  {
   "cell_type": "markdown",
   "metadata": {},
   "source": [
    "## Basic Tropical Geometry"
   ]
  },
  {
   "cell_type": "markdown",
   "metadata": {},
   "source": [
    "### Tropical Semiring"
   ]
  },
  {
   "cell_type": "markdown",
   "metadata": {},
   "source": [
    "The <b style=\"color:red;\">tropical semifield</b> $(\\mathbb{T}, \\oplus, \\odot)$ is a semifield \n",
    "where $\\mathbb{T} = \\mathbb{R} \\cup \\{-\\infty\\}$, and has two binary operators $\\oplus$  and $\\odot$ defined as followings. \n",
    "$$\\begin{align*}\n",
    "a\\oplus b &:= \\max\\{a,b\\},\\\\\n",
    "a \\odot b &:=a+b\n",
    "\\end{align*}$$"
   ]
  },
  {
   "cell_type": "code",
   "execution_count": 23,
   "metadata": {
    "collapsed": true
   },
   "outputs": [],
   "source": [
    "class trop:\n",
    "    \"\"\"使用 trop 定義熱帶數字, 加法和乘法都是熱帶版的。\"\"\"\n",
    "    def __init__(self, num):\n",
    "        self.num = num\n",
    "    def __add__(self, other):\n",
    "        return trop(max(self.num, other.num))\n",
    "    def __mul__(self, other):\n",
    "        return trop(self.num + other.num)\n",
    "    def __str__(self):\n",
    "        return str(self.num)\n",
    "    def __repr__(self):\n",
    "        return str(self.num)"
   ]
  },
  {
   "cell_type": "code",
   "execution_count": 24,
   "metadata": {
    "collapsed": true
   },
   "outputs": [],
   "source": [
    "a = trop(3)\n",
    "b = trop(5)"
   ]
  },
  {
   "cell_type": "code",
   "execution_count": 25,
   "metadata": {
    "collapsed": false
   },
   "outputs": [
    {
     "data": {
      "text/plain": [
       "3"
      ]
     },
     "execution_count": 25,
     "metadata": {},
     "output_type": "execute_result"
    }
   ],
   "source": [
    "a"
   ]
  },
  {
   "cell_type": "code",
   "execution_count": 26,
   "metadata": {
    "collapsed": false
   },
   "outputs": [
    {
     "data": {
      "text/plain": [
       "5"
      ]
     },
     "execution_count": 26,
     "metadata": {},
     "output_type": "execute_result"
    }
   ],
   "source": [
    "b"
   ]
  },
  {
   "cell_type": "code",
   "execution_count": 27,
   "metadata": {
    "collapsed": false
   },
   "outputs": [
    {
     "data": {
      "text/plain": [
       "5"
      ]
     },
     "execution_count": 27,
     "metadata": {},
     "output_type": "execute_result"
    }
   ],
   "source": [
    "a+b"
   ]
  },
  {
   "cell_type": "code",
   "execution_count": 28,
   "metadata": {
    "collapsed": false
   },
   "outputs": [
    {
     "data": {
      "text/plain": [
       "8"
      ]
     },
     "execution_count": 28,
     "metadata": {},
     "output_type": "execute_result"
    }
   ],
   "source": [
    "a*b"
   ]
  },
  {
   "cell_type": "markdown",
   "metadata": {},
   "source": [
    "### Tropical Polynomial"
   ]
  },
  {
   "cell_type": "markdown",
   "metadata": {},
   "source": [
    "The <b style=\"color:red;\">tropical polynomial</b> $f(x)$ in $(\\mathbb{T},\\oplus,\\odot)$ is defided by\n",
    "\n",
    "$$\\begin{align*}\n",
    "f(x)&=\\displaystyle \\bigoplus_{i=0}^{n}\\lambda_i \\odot x^{\\odot i}\\\\\n",
    "&=\\max\\{\\lambda_0 ,\\lambda_1+x,\\lambda_2+2x,\\dotsc,\\lambda_n+nx\\},\n",
    "\\end{align*}$$\n",
    "\n",
    "where $\\lambda_i $ in $\\mathbb{R}$ for all $i$ in $\\{0,1,\\dotsc,n\\}$."
   ]
  },
  {
   "cell_type": "markdown",
   "metadata": {},
   "source": [
    "The <b style=\"color:red;\">tropical polynomial</b>  with $n$ indeterminates $x_1,x_2,\\dotsc,x_n$, $f:\\mathbb{R}^n \\longrightarrow \\mathbb{R}$ is defined by \n",
    "\n",
    "$$\\begin{align*}\n",
    "f(x) &= \\bigoplus_{\\alpha \\in \\mathcal{A}} \\lambda_\\alpha\\odot x_{1}^{\\odot a_1}\\odot x_{2}^{\\odot a_2}\\odot \\dotsc \\odot x_{n}^{\\odot a_n} \n",
    "\\\\\n",
    "&= \\max\\{\\lambda_\\alpha+a_1x_1+a_2x_2+\\cdots+a_nx_n \\mid \\alpha \\in \\mathcal{A}\\},\n",
    "\\end{align*}$$\n",
    "\n",
    "where $\\mathcal{A}$ be a subset of $\\mathbb{Z}^n$, $\\alpha=(a_1,a_2,\\dotsc,a_n)$ and $\\lambda_\\alpha$ in $\\mathbb{R}$."
   ]
  },
  {
   "cell_type": "markdown",
   "metadata": {},
   "source": [
    "### Roots of a Tropical Polynomial"
   ]
  },
  {
   "cell_type": "markdown",
   "metadata": {},
   "source": [
    "Let $f(x) = (x \\oplus 2) \\odot (x \\oplus 3)$. Since we do not have subtraction in tropical semiring, it is reasonable to think both 2 and 3 are \"roots\" of $f(x)$.\n",
    "\n",
    "$$\\begin{align*}\n",
    "f(x) \t&= (x \\oplus 2) \\odot (x \\oplus 3) \\\\\n",
    "\t&= x\\odot (x \\oplus 3) \\oplus 2\\odot (x \\oplus 3)\\\\\n",
    "\t&= x^{\\odot2} \\oplus 3\\odot x \\oplus 2\\odot x \\oplus 5\\\\\n",
    "\t&= x^{\\odot 2} \\oplus 3\\odot  x \\oplus 5\\\\\n",
    "\t&= \\max\\{2x, 3+x, 5\\}.\n",
    "\\end{align*}$$\n",
    "\n"
   ]
  },
  {
   "cell_type": "code",
   "execution_count": 29,
   "metadata": {
    "collapsed": false
   },
   "outputs": [],
   "source": [
    "x = linspace(0,5,50)"
   ]
  },
  {
   "cell_type": "code",
   "execution_count": 30,
   "metadata": {
    "collapsed": false
   },
   "outputs": [],
   "source": [
    "tmp = maximum(2*x, 3+x)\n",
    "y = maximum(tmp, 5)"
   ]
  },
  {
   "cell_type": "code",
   "execution_count": 31,
   "metadata": {
    "collapsed": false
   },
   "outputs": [
    {
     "data": {
      "image/png": "[encoded data removed]",
      "text/latex": [
       "$$\\begin{pmatrix}0, & 10\\end{pmatrix}$$"
      ],
      "text/plain": [
       "(0, 10)"
      ]
     },
     "execution_count": 31,
     "metadata": {},
     "output_type": "execute_result"
    },
    {
     "data": {
      "image/png": "[encoded data removed]",
      "text/plain": [
       "<matplotlib.figure.Figure at 0x107ae3810>"
      ]
     },
     "metadata": {},
     "output_type": "display_data"
    }
   ],
   "source": [
    "plt.plot(x,y)\n",
    "plt.ylim(0,10)"
   ]
  },
  {
   "cell_type": "markdown",
   "metadata": {},
   "source": [
    "### Tropical Curves\n",
    "\n",
    "A <b style=\"color:red;\">tropical curve</b> $\\Gamma$ in $\\mathbb{T}^2$ is a tropical hypersurface in $\\mathbb{T}^2$. That is, it is a collection of roots of one tropical polynomial $f(x,y)$ of two variables. In other words, we have $\\Gamma = V(f)$."
   ]
  },
  {
   "cell_type": "code",
   "execution_count": 32,
   "metadata": {
    "collapsed": true
   },
   "outputs": [],
   "source": [
    "def drawgraph(points, lines, xy=[-2,5,-2,5], c=(0,0,0)):\n",
    "    \"\"\"points 的格式如 [[x1, y1], [x2, y2], [x3, y3]]\n",
    "    lines 為 [[i1, j1], [i2, j2]] 等等, 每個數對 [i,j] 表從 i 連到 j 的線段\"\"\"\n",
    "    X = [x[0] for x in points]\n",
    "    Y = [y[1] for y in points]\n",
    "    cor_lines = [[points[l[0]],points[l[1]]] for l in lines]\n",
    "    line_segments = mpl.collections.LineCollection(cor_lines,colors=c,linewidth=3)\n",
    "    fig, ax = subplots()\n",
    "    ax.add_collection(line_segments)\n",
    "    ax.set_xlim(xy[0],xy[1])\n",
    "    ax.set_ylim(xy[2],xy[3])\n",
    "    ax.scatter(X,Y, c=(0,0,0), s=40)\n",
    "    ax.axison = False"
   ]
  },
  {
   "cell_type": "markdown",
   "metadata": {},
   "source": [
    "#### Example\n",
    "\n",
    "$$f(x,y) = x \\oplus y \\oplus 1$$"
   ]
  },
  {
   "cell_type": "code",
   "execution_count": 33,
   "metadata": {
    "collapsed": true
   },
   "outputs": [],
   "source": [
    "# 0:(1,1) 1:(6,6) 2:(-5,0) 3:(0,-5)\n",
    "P = [[1,1], [6,6], [-5,1], [1,-5]]\n",
    "L = [[0,1], [0,2], [0,3]]"
   ]
  },
  {
   "cell_type": "markdown",
   "metadata": {},
   "source": [
    "#### $x = y \\geq 1$"
   ]
  },
  {
   "cell_type": "code",
   "execution_count": 34,
   "metadata": {
    "collapsed": false
   },
   "outputs": [
    {
     "data": {
      "image/png": "[encoded data removed]",
      "text/plain": [
       "<matplotlib.figure.Figure at 0x107b41c50>"
      ]
     },
     "metadata": {},
     "output_type": "display_data"
    }
   ],
   "source": [
    "drawgraph(P, L[:1])"
   ]
  },
  {
   "cell_type": "markdown",
   "metadata": {},
   "source": [
    "#### $y=1 \\geq x$"
   ]
  },
  {
   "cell_type": "code",
   "execution_count": 35,
   "metadata": {
    "collapsed": false
   },
   "outputs": [
    {
     "data": {
      "image/png": "[encoded data removed]",
      "text/plain": [
       "<matplotlib.figure.Figure at 0x107b2d690>"
      ]
     },
     "metadata": {},
     "output_type": "display_data"
    }
   ],
   "source": [
    "drawgraph(P, L[:2])"
   ]
  },
  {
   "cell_type": "markdown",
   "metadata": {},
   "source": [
    "$x=1 \\geq y$"
   ]
  },
  {
   "cell_type": "code",
   "execution_count": 36,
   "metadata": {
    "collapsed": false
   },
   "outputs": [
    {
     "data": {
      "image/png": "[encoded data removed]",
      "text/plain": [
       "<matplotlib.figure.Figure at 0x10799af10>"
      ]
     },
     "metadata": {},
     "output_type": "display_data"
    }
   ],
   "source": [
    "drawgraph(P, L)"
   ]
  },
  {
   "cell_type": "markdown",
   "metadata": {},
   "source": [
    "### Dual Graph"
   ]
  },
  {
   "cell_type": "code",
   "execution_count": 37,
   "metadata": {
    "collapsed": false
   },
   "outputs": [
    {
     "data": {
      "text/plain": [
       "<matplotlib.text.Text at 0x107b31290>"
      ]
     },
     "execution_count": 37,
     "metadata": {},
     "output_type": "execute_result"
    },
    {
     "data": {
      "image/png": "[encoded data removed]",
      "text/plain": [
       "<matplotlib.figure.Figure at 0x107b3ae10>"
      ]
     },
     "metadata": {},
     "output_type": "display_data"
    }
   ],
   "source": [
    "triP = [[0,0], [1,0], [0,1]]\n",
    "triL = [[0,1], [1,2], [2,0]]\n",
    "drawgraph(triP, triL, xy=[-2,2,-2,2], c=(1,0,0))\n",
    "text(-0.3,-0.3, \"(0,0): const\", fontsize=14)\n",
    "text(1, -0.3, \"(1,0): $x$\", fontsize=14)\n",
    "text(-0.3, 1.2, \"(0,1): $y$\", fontsize=14)"
   ]
  },
  {
   "cell_type": "markdown",
   "metadata": {},
   "source": [
    "![Dual](images/dual.png)"
   ]
  },
  {
   "cell_type": "markdown",
   "metadata": {},
   "source": [
    "## Tropical Elliptic Curves I"
   ]
  },
  {
   "cell_type": "markdown",
   "metadata": {},
   "source": [
    "### First Try"
   ]
  },
  {
   "cell_type": "markdown",
   "metadata": {},
   "source": [
    "How about the graph of\n",
    "\n",
    "$$\"y^2 = x^3 + Ax + B\"?$$\n",
    "\n",
    "It shoud be the roots of the tropical polynomial:\n",
    "\n",
    "$$y^{\\odot 2} \\oplus x^{\\odot 3} \\oplus A \\cdot x \\oplus B$$"
   ]
  },
  {
   "cell_type": "markdown",
   "metadata": {},
   "source": [
    "![naive tropical elliptic curve](images/naive.png)"
   ]
  },
  {
   "cell_type": "markdown",
   "metadata": {},
   "source": [
    "### Problem?"
   ]
  },
  {
   "cell_type": "markdown",
   "metadata": {},
   "source": [
    "We will see this kind of \"elliptic curves\" always have trivial Picard groups."
   ]
  },
  {
   "cell_type": "markdown",
   "metadata": {},
   "source": [
    "## Tropical Divisors"
   ]
  },
  {
   "cell_type": "markdown",
   "metadata": {},
   "source": [
    "A <b style=\"color:red;\">tropical divisor</b> D is a formal linear combination of finite points in a tropical curve $\\Gamma$, with the coefficients in $\\mathbb{Z}$. That is, a tropical divisor is of the form\n",
    "\n",
    "$$\n",
    "D=\\sum_{v_\\alpha \\in A} m_\\alpha \\cdot v_\\alpha,\n",
    "$$\n",
    "\n",
    "where $A$ is a finite subset of $\\Gamma$, and  $m_\\alpha \\in \\mathbb{Z}$, for all $v_\\alpha \\in A$. "
   ]
  },
  {
   "cell_type": "markdown",
   "metadata": {},
   "source": [
    "### Notation\n",
    "\n",
    "We denote the collection of all divisors on $\\Gamma$ by <b style=\"color:red;\">$\\mathrm{Div}(\\Gamma)$</b>."
   ]
  },
  {
   "cell_type": "markdown",
   "metadata": {},
   "source": [
    "### Remark\n",
    "\n",
    "Let $\\Gamma$ be a tropical curve. It is obvious that $\\mathrm{Div}(\\Gamma)$ is a free abelian group."
   ]
  },
  {
   "cell_type": "markdown",
   "metadata": {},
   "source": [
    "### Degrees of Divisors\n",
    "\n",
    "The <b style=\"color:red;\">degree</b> $\\deg(D)$ of a divisor is defined by \n",
    "\n",
    "$$\n",
    "\\deg(D)=\\sum_{v_\\alpha \\in A} m_\\alpha.\n",
    "$$\n"
   ]
  },
  {
   "cell_type": "markdown",
   "metadata": {},
   "source": [
    "### Effective Divisor\n",
    "\n",
    "A divisor $D$ is called <b style=\"color:red;\">effective</b> divisor if all coefficients of $D$ are greater or equal to zero. We will use the notation $D \\geq 0$ if $D$ is effective."
   ]
  },
  {
   "cell_type": "markdown",
   "metadata": {},
   "source": [
    "### Canonical Divisors\n",
    "\n",
    "Let $\\Gamma$ be a tropical curve. The <b style=\"color:red;\">canonical divisor</b> $K$ is the divisor on $\\Gamma$ defined by \n",
    "\n",
    "$$\n",
    "K=\\sum_{v \\in \\Gamma}  (\\deg (v) - 2) \\cdot v.\n",
    "$$ "
   ]
  },
  {
   "cell_type": "markdown",
   "metadata": {},
   "source": [
    "### Tropical Meromorphic Functions (on a curve)\n",
    "\n",
    "A <b style=\"color:red;\">tropical meromorphic function</b> $f$ on $\\Gamma$ is a piecewise linear function defined on $\\Gamma$, and the slope of the function is an integer on all pieces."
   ]
  },
  {
   "cell_type": "markdown",
   "metadata": {},
   "source": [
    "![tropical meromorphic function](images/contidivfun.png)"
   ]
  },
  {
   "cell_type": "markdown",
   "metadata": {},
   "source": [
    "### Meromorphic Functions\n",
    "\n",
    "Let $f$ be a meromorphic function on a tropical curve $\\Gamma$. The <b style=\"color:red;\">order of $f$ at the point $P$</b> in $\\Gamma$ is the sum of the outgoing slope at point $P$. We denote the order of $f$ at $P$ by <b style=\"color:red;\">$\\mathrm{ord}_P (f)$</b>.   \n"
   ]
  },
  {
   "cell_type": "markdown",
   "metadata": {},
   "source": [
    "### Principle Divisor\n",
    "\n",
    "Let $\\Gamma$ be a tropical curve. A divisor $D$ in $\\mathrm{Div}(\\Gamma)$ is called a <b style=\"color:red;\">principle divisor</b> if \n",
    "\n",
    "$$\n",
    "D = (f) =\\sum_{P \\in \\Gamma}\\mathrm{ord}_P(f) \\cdot P.\n",
    "$$\n",
    "\n",
    "The collection of all principal divisors of $\\Gamma$ is denoted by <b style=\"color:red;\">$\\mathrm{Prin}(\\Gamma)$</b>."
   ]
  },
  {
   "cell_type": "markdown",
   "metadata": {},
   "source": [
    "### Linearly Equivalent\n",
    "\n",
    "Two tropical divisors $D_1$ and $D_2$ on a tropical curve $\\Gamma$ is <b style=\"color:red;\">linearly equivalent</b> if there is a meromorphic function $f$ on $\\Gamma$ such that\n",
    "\n",
    "$$\n",
    "D_1 - D_2 = (f),\n",
    "$$ \n",
    "\n",
    "which we denoted by $D_1 \\sim D_2$."
   ]
  },
  {
   "cell_type": "markdown",
   "metadata": {},
   "source": [
    "### A Tropical Principle Divisor is of degree 0\n",
    "\n",
    "It is easy to check, a tropical principle divisor is of degree $0$, as in the classical divisor theory. "
   ]
  },
  {
   "cell_type": "markdown",
   "metadata": {},
   "source": [
    "### $\\mathrm{Div}_k(\\Gamma)$\n",
    "\n",
    "The collection of all divisors of degree $k$ of a tropical curve $\\Gamma$ is denoted by <b style=\"color:red;\">$\\mathrm{Div}_k(\\Gamma)$</b>."
   ]
  },
  {
   "cell_type": "markdown",
   "metadata": {},
   "source": [
    "### Divisors on the Same Tentacle\n",
    "\n",
    "Let $\\Gamma$ be a tropical curve and $P, Q$ be two points on a connected tentacle of $\\Gamma$. Then $P \\sim Q$ as divisors of $\\Gamma$.\n"
   ]
  },
  {
   "cell_type": "markdown",
   "metadata": {},
   "source": [
    "## Tropical Elliptic Curve II"
   ]
  },
  {
   "cell_type": "markdown",
   "metadata": {},
   "source": [
    "A <b style=\"color:red;\">tropical elliptic curve</b> is a smooth tropical curve of degree three with genus one."
   ]
  },
  {
   "cell_type": "code",
   "execution_count": 38,
   "metadata": {
    "collapsed": true
   },
   "outputs": [],
   "source": [
    "P = [[0,3], [0,2], [0,1], [0,0], [1,2], [1,1], [1,0], [2,1], [2,0], [3,0]]\n",
    "L = [[0,3], [3,9], [0,9], [3,5], [1,4], [2,4], [3,5], [5,7], [4,6], [7,8]]"
   ]
  },
  {
   "cell_type": "code",
   "execution_count": 39,
   "metadata": {
    "collapsed": false
   },
   "outputs": [
    {
     "data": {
      "image/png": "[encoded data removed]",
      "text/plain": [
       "<matplotlib.figure.Figure at 0x107ba3e50>"
      ]
     },
     "metadata": {},
     "output_type": "display_data"
    }
   ],
   "source": [
    "drawgraph(P,L)"
   ]
  },
  {
   "cell_type": "code",
   "execution_count": 40,
   "metadata": {
    "collapsed": true
   },
   "outputs": [],
   "source": [
    "P = [[0,0], [-1,1], [1,1], [1,0], [-2,2], [-2,3], [2,-1], [3,-1],\n",
    "     [0,-5], [2,-5], [3,-5], [8,4], [6,6],\n",
    "     [5,10], [-4,3], [-4,2], [-4,1]]\n",
    "L = [[0,1], [1,2], [2,3], [0,3], [1,4], [4,5], [3,6], [6,7],\n",
    "     [0,8], [6,9], [7,10], [7,11], [2,12],\n",
    "     [5,13], [5,14], [4,15], [1,16]]"
   ]
  },
  {
   "cell_type": "code",
   "execution_count": 41,
   "metadata": {
    "collapsed": false
   },
   "outputs": [
    {
     "data": {
      "image/png": "[encoded data removed]",
      "text/plain": [
       "<matplotlib.figure.Figure at 0x107b63250>"
      ]
     },
     "metadata": {},
     "output_type": "display_data"
    }
   ],
   "source": [
    "drawgraph(P,L,xy=[-3,4,-3,4])"
   ]
  },
  {
   "cell_type": "markdown",
   "metadata": {},
   "source": [
    "### Core of a Tropical Curve\n",
    "\n",
    "Let $\\Gamma$ be a tropical elliptic curve, and cutting the tentacles of $\\Gamma$ which denoted by $C$.  We call it the <b style=\"color:red;\">core</b> of the tropical elliptic curve $\\Gamma$."
   ]
  },
  {
   "cell_type": "markdown",
   "metadata": {},
   "source": [
    "### Picard Group\n",
    "\n",
    "Let $\\Gamma$ be a tropical elliptic curve and let C be its core. We have\n",
    "\n",
    "\n",
    "$$\n",
    "\\mathrm{Pic}(C) =\\frac{\\mathrm{Div}_0(\\Gamma)}{\\mathrm{Prin}(\\Gamma)} = \\frac{\\mathrm{Div}_0(C)}{\\mathrm{Prin}(C)} = \\mathrm{Pic}(\\Gamma).\n",
    "$$\n"
   ]
  },
  {
   "cell_type": "markdown",
   "metadata": {},
   "source": [
    "### Group Structure\n",
    "\n",
    "Let l be the length of C. Fix an arbitrary point $P_0$ on $C$. For each points $P, Q$ in $C$, let $x, y$ be the distance from $P$ to $P_0$, and $Q$ to $P_0$, respectively. We calculate the distance from $P_0$ counterclockwisely. Define an operation $*$ of $C$ by \n",
    "\n",
    "$$\n",
    "P*Q=R,\n",
    "$$\n",
    "\n",
    "where $R$ is the point in $C$ with the distances $(x+y) \\mod l$ from $P_0$.\n",
    "￼"
   ]
  },
  {
   "cell_type": "markdown",
   "metadata": {},
   "source": [
    "### Tropical Curve and Its Picard Group\n",
    "\n",
    "The group $(C, *)$ is isomorphic to $\\mathrm{Pic}(C)$."
   ]
  }
 ],
 "metadata": {
  "kernelspec": {
   "display_name": "Python 3",
   "language": "python",
   "name": "python3"
  },
  "language_info": {
   "codemirror_mode": {
    "name": "ipython",
    "version": 3
   },
   "file_extension": ".py",
   "mimetype": "text/x-python",
   "name": "python",
   "nbconvert_exporter": "python",
   "pygments_lexer": "ipython3",
   "version": "3.3.5"
  }
 },
 "nbformat": 4,
 "nbformat_minor": 0
}
